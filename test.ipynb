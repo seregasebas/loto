{
 "cells": [
  {
   "cell_type": "code",
   "execution_count": 4,
   "metadata": {},
   "outputs": [],
   "source": [
    "import random\n",
    "# data_list = [random.randint(1,91) for i in range(15)]\n",
    "# random.shuffle(data_list)\n",
    "# new_list = [sorted(data_list[i:i+5]) for i in range(0, len(data_list), 5)]"
   ]
  },
  {
   "cell_type": "code",
   "execution_count": 5,
   "metadata": {},
   "outputs": [],
   "source": [
    "# генерация случайных цифр\n",
    "user = []\n",
    "while len(set(user)) < 15:\n",
    "    user = [random.randint(1,91) for i in range(15)]\n",
    "computer = []\n",
    "while len(set(computer)) < 15:\n",
    "    computer = [random.randint(1,91) for i in range(15)]"
   ]
  },
  {
   "cell_type": "code",
   "execution_count": 24,
   "metadata": {},
   "outputs": [],
   "source": [
    "def str_(x):\n",
    "    res = ''\n",
    "    for i in x:\n",
    "        res += str(i) + ' '\n",
    "    return res"
   ]
  },
  {
   "cell_type": "code",
   "execution_count": 25,
   "metadata": {},
   "outputs": [
    {
     "name": "stdout",
     "output_type": "stream",
     "text": [
      "------------------------------\n",
      "82 75 74 86 57\n",
      "[ 7 9   5   1 2   2 4   2 5 ]\n",
      "62 58 45 50 73 \n",
      "------------------------------\n"
     ]
    }
   ],
   "source": [
    "print('-'*30)\n",
    "print(' '.join([str(i) for i in user[0:5]]))\n",
    "print(' '.join(str(user[5:10]).replace(',','')))\n",
    "print(str_(user[10:15]))\n",
    "print('-'*30)"
   ]
  }
 ],
 "metadata": {
  "interpreter": {
   "hash": "f9f85f796d01129d0dd105a088854619f454435301f6ffec2fea96ecbd9be4ac"
  },
  "kernelspec": {
   "display_name": "Python 3.9.5 64-bit",
   "language": "python",
   "name": "python3"
  },
  "language_info": {
   "codemirror_mode": {
    "name": "ipython",
    "version": 3
   },
   "file_extension": ".py",
   "mimetype": "text/x-python",
   "name": "python",
   "nbconvert_exporter": "python",
   "pygments_lexer": "ipython3",
   "version": "3.9.5"
  },
  "orig_nbformat": 4
 },
 "nbformat": 4,
 "nbformat_minor": 2
}
